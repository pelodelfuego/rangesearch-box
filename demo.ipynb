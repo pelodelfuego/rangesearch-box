{
 "cells": [
  {
   "cell_type": "code",
   "execution_count": 1,
   "metadata": {
    "collapsed": true
   },
   "outputs": [],
   "source": [
    "import numpy as np\n",
    "from sklearn.neighbors import BallTree\n",
    "\n",
    "from rangesearch_box import rangesearch_box"
   ]
  },
  {
   "cell_type": "markdown",
   "metadata": {},
   "source": [
    "# Initialization"
   ]
  },
  {
   "cell_type": "code",
   "execution_count": 2,
   "metadata": {
    "collapsed": true
   },
   "outputs": [],
   "source": [
    "ndim = 5\n",
    "rad = .2\n",
    "box = [(-rad, rad)] * ndim"
   ]
  },
  {
   "cell_type": "code",
   "execution_count": 3,
   "metadata": {
    "collapsed": false
   },
   "outputs": [
    {
     "data": {
      "text/plain": [
       "array([[ 0.96248984,  0.86519489,  0.27083233,  0.13151992,  0.6565823 ],\n",
       "       [ 0.62995518,  0.85749448,  0.71506439,  0.09999372,  0.79918215],\n",
       "       [ 0.10419382,  0.58455911,  0.79610992,  0.42175123,  0.44563308],\n",
       "       [ 0.16761207,  0.91066151,  0.26891934,  0.95369074,  0.7298104 ],\n",
       "       [ 0.81688805,  0.24101873,  0.76913797,  0.89615646,  0.46641426]])"
      ]
     },
     "execution_count": 3,
     "metadata": {},
     "output_type": "execute_result"
    }
   ],
   "source": [
    "X = np.random.rand(500, ndim)\n",
    "X[:5]"
   ]
  },
  {
   "cell_type": "markdown",
   "metadata": {},
   "source": [
    "# Compare results"
   ]
  },
  {
   "cell_type": "markdown",
   "metadata": {},
   "source": [
    "In order to compare the results of the range query, we create here corresponding metric for ball tree.<br>\n",
    "We can note that we loose the radius property of it."
   ]
  },
  {
   "cell_type": "code",
   "execution_count": 4,
   "metadata": {
    "collapsed": true
   },
   "outputs": [],
   "source": [
    "def box_metric(box):\n",
    "    def _box_metric(a, b):\n",
    "        return any([not(box_d_min < b_d - a_d < box_d_max) for a_d, b_d, (box_d_min, box_d_max) in zip(a, b, box)])\n",
    "    return _box_metric"
   ]
  },
  {
   "cell_type": "code",
   "execution_count": 5,
   "metadata": {
    "collapsed": false
   },
   "outputs": [
    {
     "data": {
      "text/plain": [
       "array([array([ 51, 407, 368,   2,  60, 479, 459]), array([369,   3, 260])], dtype=object)"
      ]
     },
     "execution_count": 5,
     "metadata": {},
     "output_type": "execute_result"
    }
   ],
   "source": [
    "bt = BallTree(X, metric=box_metric(box))\n",
    "bt.query_radius(X[(2, 3), :], 0.)"
   ]
  },
  {
   "cell_type": "code",
   "execution_count": 6,
   "metadata": {
    "collapsed": false
   },
   "outputs": [
    {
     "data": {
      "text/plain": [
       "array([array([  2,  51,  60, 368, 407, 459, 479]), array([  3, 260, 369])], dtype=object)"
      ]
     },
     "execution_count": 6,
     "metadata": {},
     "output_type": "execute_result"
    }
   ],
   "source": [
    "search = rangesearch_box(X)\n",
    "search(X[(2, 3), :], box)"
   ]
  },
  {
   "cell_type": "markdown",
   "metadata": {},
   "source": [
    "We find the same results for a given query."
   ]
  },
  {
   "cell_type": "markdown",
   "metadata": {},
   "source": [
    "# Compare perf"
   ]
  },
  {
   "cell_type": "markdown",
   "metadata": {},
   "source": [
    "## Rangesearch init"
   ]
  },
  {
   "cell_type": "code",
   "execution_count": 7,
   "metadata": {
    "collapsed": false
   },
   "outputs": [
    {
     "name": "stdout",
     "output_type": "stream",
     "text": [
      "1000 loops, best of 3: 483 µs per loop\n",
      "100 loops, best of 3: 9.95 ms per loop\n"
     ]
    }
   ],
   "source": [
    "%timeit rangesearch_box(X)\n",
    "%timeit BallTree(X, metric=box_metric(box))"
   ]
  },
  {
   "cell_type": "markdown",
   "metadata": {},
   "source": [
    "## Query a few points"
   ]
  },
  {
   "cell_type": "code",
   "execution_count": 8,
   "metadata": {
    "collapsed": false
   },
   "outputs": [
    {
     "name": "stdout",
     "output_type": "stream",
     "text": [
      "1000 loops, best of 3: 331 µs per loop\n",
      "100 loops, best of 3: 7.91 ms per loop\n"
     ]
    }
   ],
   "source": [
    "%timeit search(X[(2, 6, 10), :], box)\n",
    "%timeit bt.query_radius(X[(2, 6, 10), :], 0.)"
   ]
  },
  {
   "cell_type": "markdown",
   "metadata": {},
   "source": [
    "## Query more points"
   ]
  },
  {
   "cell_type": "code",
   "execution_count": 9,
   "metadata": {
    "collapsed": false
   },
   "outputs": [
    {
     "name": "stdout",
     "output_type": "stream",
     "text": [
      "10 loops, best of 3: 38.3 ms per loop\n",
      "1 loop, best of 3: 1.3 s per loop\n"
     ]
    }
   ],
   "source": [
    "y = np.random.rand(500, ndim)\n",
    "\n",
    "%timeit search(y, box)\n",
    "%timeit bt.query_radius(y, 0.)"
   ]
  },
  {
   "cell_type": "markdown",
   "metadata": {},
   "source": [
    "# Conclusion"
   ]
  },
  {
   "cell_type": "markdown",
   "metadata": {},
   "source": [
    "Despite of the cython part in the implementation of balltree (except the metric), <br>\n",
    "the rangesearch-box algorithm (based of python + numpy) seems to be faster.\n",
    "\n",
    "However, it is important to note, there is a tradeoff since we are limited in the box shape we can define."
   ]
  }
 ],
 "metadata": {
  "kernelspec": {
   "display_name": "Python 2",
   "language": "python",
   "name": "python2"
  },
  "language_info": {
   "codemirror_mode": {
    "name": "ipython",
    "version": 2
   },
   "file_extension": ".py",
   "mimetype": "text/x-python",
   "name": "python",
   "nbconvert_exporter": "python",
   "pygments_lexer": "ipython2",
   "version": "2.7.9"
  }
 },
 "nbformat": 4,
 "nbformat_minor": 1
}
