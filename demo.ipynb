{
 "cells": [
  {
   "cell_type": "code",
   "execution_count": 1,
   "metadata": {
    "collapsed": true
   },
   "outputs": [],
   "source": [
    "import numpy as np\n",
    "from sklearn.neighbors import BallTree\n",
    "\n",
    "from rangesearch_box import rangesearch_box"
   ]
  },
  {
   "cell_type": "markdown",
   "metadata": {},
   "source": [
    "# Initialization"
   ]
  },
  {
   "cell_type": "code",
   "execution_count": 2,
   "metadata": {
    "collapsed": true
   },
   "outputs": [],
   "source": [
    "ndim = 5\n",
    "rad = .2\n",
    "box = [(-rad, rad)] * ndim"
   ]
  },
  {
   "cell_type": "code",
   "execution_count": 3,
   "metadata": {
    "collapsed": false
   },
   "outputs": [
    {
     "data": {
      "text/plain": [
       "array([[ 0.66120795,  0.16419294,  0.30479838,  0.05863241,  0.80880002],\n",
       "       [ 0.60626541,  0.0991643 ,  0.46577911,  0.61364594,  0.982528  ],\n",
       "       [ 0.98692162,  0.8922461 ,  0.00218318,  0.29426143,  0.69431703],\n",
       "       [ 0.54370348,  0.35400763,  0.00119577,  0.25608221,  0.18517756],\n",
       "       [ 0.19516881,  0.10861635,  0.06603759,  0.39365626,  0.62877324]])"
      ]
     },
     "execution_count": 3,
     "metadata": {},
     "output_type": "execute_result"
    }
   ],
   "source": [
    "X = np.random.rand(500, ndim)\n",
    "X[:5]"
   ]
  },
  {
   "cell_type": "markdown",
   "metadata": {},
   "source": [
    "# Compare results"
   ]
  },
  {
   "cell_type": "markdown",
   "metadata": {},
   "source": [
    "In order to compare the results of the range query, we create here corresponding metric for ball tree.<br>\n",
    "We can note that we loose the radius property of it."
   ]
  },
  {
   "cell_type": "code",
   "execution_count": 4,
   "metadata": {
    "collapsed": true
   },
   "outputs": [],
   "source": [
    "def box_metric(box):\n",
    "    def _box_metric(a, b):\n",
    "        return any([not(box_d_min < b_d - a_d < box_d_max) for a_d, b_d, (box_d_min, box_d_max) in zip(a, b, box)])\n",
    "    return _box_metric"
   ]
  },
  {
   "cell_type": "code",
   "execution_count": 5,
   "metadata": {
    "collapsed": false
   },
   "outputs": [
    {
     "data": {
      "text/plain": [
       "array([array([ 2, 28]), array([368,   3])], dtype=object)"
      ]
     },
     "execution_count": 5,
     "metadata": {},
     "output_type": "execute_result"
    }
   ],
   "source": [
    "bt = BallTree(X, metric=box_metric(box))\n",
    "bt.query_radius(X[(2, 3), :], 0.)"
   ]
  },
  {
   "cell_type": "code",
   "execution_count": 6,
   "metadata": {
    "collapsed": false
   },
   "outputs": [
    {
     "data": {
      "text/plain": [
       "array([[  2,  28],\n",
       "       [  3, 368]])"
      ]
     },
     "execution_count": 6,
     "metadata": {},
     "output_type": "execute_result"
    }
   ],
   "source": [
    "search = rangesearch_box(X)\n",
    "search(X[(2, 3), :], box)"
   ]
  },
  {
   "cell_type": "markdown",
   "metadata": {},
   "source": [
    "# Compare perf"
   ]
  },
  {
   "cell_type": "markdown",
   "metadata": {},
   "source": [
    "## Few points"
   ]
  },
  {
   "cell_type": "code",
   "execution_count": 7,
   "metadata": {
    "collapsed": false
   },
   "outputs": [
    {
     "name": "stdout",
     "output_type": "stream",
     "text": [
      "1000 loops, best of 3: 312 µs per loop\n",
      "100 loops, best of 3: 7.84 ms per loop\n"
     ]
    }
   ],
   "source": [
    "%timeit search(X[(2, 6, 10), :], box)\n",
    "%timeit bt.query_radius(X[(2, 6, 10), :], 0.)"
   ]
  },
  {
   "cell_type": "markdown",
   "metadata": {},
   "source": [
    "## More points"
   ]
  },
  {
   "cell_type": "code",
   "execution_count": 8,
   "metadata": {
    "collapsed": false
   },
   "outputs": [
    {
     "name": "stdout",
     "output_type": "stream",
     "text": [
      "10 loops, best of 3: 36.9 ms per loop\n",
      "1 loop, best of 3: 1.27 s per loop\n"
     ]
    }
   ],
   "source": [
    "y = np.random.rand(500, ndim)\n",
    "\n",
    "%timeit search(y, box)\n",
    "%timeit bt.query_radius(y, 0.)"
   ]
  },
  {
   "cell_type": "markdown",
   "metadata": {},
   "source": [
    "# Conclusion"
   ]
  },
  {
   "cell_type": "markdown",
   "metadata": {},
   "source": [
    "Despite of the Cython part in the implementation of balltree, <br>\n",
    "the rangesearch-box algorithm (based of python + numpy) seems to be faster.\n",
    "\n",
    "However, it is important to note, there is a tradeoff since we are limited in the box shape we can define."
   ]
  }
 ],
 "metadata": {
  "kernelspec": {
   "display_name": "Python 2",
   "language": "python",
   "name": "python2"
  },
  "language_info": {
   "codemirror_mode": {
    "name": "ipython",
    "version": 2
   },
   "file_extension": ".py",
   "mimetype": "text/x-python",
   "name": "python",
   "nbconvert_exporter": "python",
   "pygments_lexer": "ipython2",
   "version": "2.7.9"
  }
 },
 "nbformat": 4,
 "nbformat_minor": 1
}
